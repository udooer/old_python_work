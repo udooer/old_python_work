{
 "cells": [
  {
   "cell_type": "code",
   "execution_count": 22,
   "metadata": {},
   "outputs": [],
   "source": [
    "import numpy as np\n",
    "import matplotlib.pyplot as plt"
   ]
  },
  {
   "cell_type": "markdown",
   "metadata": {},
   "source": [
    "after regression data generation, make sure u saperate it to two parts. one is the train part, another one is the valid part. "
   ]
  },
  {
   "cell_type": "code",
   "execution_count": 83,
   "metadata": {},
   "outputs": [
    {
     "data": {
      "text/plain": [
       "array([0.77127035, 0.06355835, 0.86310343, 0.02541913, 0.73199394,\n",
       "       0.07404465, 0.19871568, 0.31098232, 0.47221493, 0.96958463,\n",
       "       0.12203823, 0.77513282, 0.80219698, 0.72960618, 0.09767211,\n",
       "       0.18485446, 0.15601864, 0.02058449, 0.98688694, 0.62329813,\n",
       "       0.70807258, 0.59789998, 0.92187424, 0.63755747, 0.28093451,\n",
       "       0.25877998, 0.11959425, 0.72900717, 0.94888554, 0.60754485,\n",
       "       0.5612772 , 0.4937956 , 0.18182497, 0.27134903, 0.96990985,\n",
       "       0.21233911, 0.18340451, 0.86617615, 0.37454012, 0.29122914,\n",
       "       0.80839735, 0.05808361, 0.83244264, 0.54269608, 0.77224477,\n",
       "       0.88721274, 0.0884925 , 0.04522729, 0.59241457, 0.68423303,\n",
       "       0.71324479, 0.03438852, 0.60111501, 0.81546143, 0.44015249,\n",
       "       0.32518332, 0.78517596, 0.76078505, 0.49517691, 0.19967378,\n",
       "       0.95071431, 0.29214465, 0.13949386, 0.31171108, 0.70685734,\n",
       "       0.11586906, 0.35846573, 0.00552212, 0.19598286, 0.89482735,\n",
       "       0.45606998, 0.52475643, 0.14092422, 0.06505159, 0.17052412,\n",
       "       0.82873751, 0.32533033, 0.93949894, 0.33089802, 0.36636184])"
      ]
     },
     "execution_count": 83,
     "metadata": {},
     "output_type": "execute_result"
    }
   ],
   "source": [
    "np.random.seed(42)\n",
    "x = np.random.rand(100)\n",
    "y = 1 + 2*x + 0.1*np.random.randn(100)\n",
    "\n",
    "#good way to shuffle but i think is no need \n",
    "index = np.arange(100)\n",
    "np.random.shuffle(index)\n",
    "\n",
    "train_idx = index[:80]\n",
    "valid_idx = index[80:]\n",
    "\n",
    "#saperate to two parts\n",
    "train_data_x, train_data_y = x[train_idx], y[train_idx]\n",
    "valid_data_x, valid_data_y = x[valid_idx], y[valid_idx]\n",
    "train_data_x"
   ]
  },
  {
   "cell_type": "markdown",
   "metadata": {},
   "source": [
    "visualize your data "
   ]
  },
  {
   "cell_type": "code",
   "execution_count": 39,
   "metadata": {},
   "outputs": [
    {
     "data": {
      "image/png": "[encoded data removed]",
      "text/plain": [
       "<matplotlib.figure.Figure at 0x7fb17c869be0>"
      ]
     },
     "metadata": {},
     "output_type": "display_data"
    }
   ],
   "source": [
    "plt.scatter(train_data_x, train_data_y)\n",
    "plt.scatter(valid_data_x, valid_data_y)\n",
    "plt.title('Data Sets')\n",
    "plt.legend(['train data sets', 'valid data sets'])\n",
    "plt.xlabel('x')\n",
    "plt.ylabel('y')\n",
    "plt.show()"
   ]
  },
  {
   "cell_type": "markdown",
   "metadata": {},
   "source": [
    "start training by using numpy to show how complicated it is in this simple regression problem "
   ]
  },
  {
   "cell_type": "code",
   "execution_count": 96,
   "metadata": {},
   "outputs": [
    {
     "name": "stdout",
     "output_type": "stream",
     "text": [
      "[0.49671415] [-0.1382643]\n"
     ]
    }
   ],
   "source": [
    "# initialize the parameters\n",
    "np.random.seed(42)\n",
    "a = np.random.randn(1)\n",
    "b = np.random.randn(1)\n",
    "# define the lr and epochs\n",
    "lr = 0.1\n",
    "epochs = 1000\n",
    "print(a, b)"
   ]
  },
  {
   "cell_type": "code",
   "execution_count": 97,
   "metadata": {},
   "outputs": [
    {
     "name": "stdout",
     "output_type": "stream",
     "text": [
      "epoch:  204\n",
      "actual parameters: (1, 2)\n",
      "afeter training: ( [1.05640988] , [1.90464916] )\n",
      "a_grad:  0.005041721852429815\n",
      "b_grad:  -0.009865183041256966\n"
     ]
    }
   ],
   "source": [
    "# start training using backprob alogorithm\n",
    "for epoch in range(epochs):\n",
    "    yhat = a + b*train_data_x\n",
    "    error = train_data_y - yhat\n",
    "    MSE = (error**2).mean()\n",
    "    # compute the parameter a and b contrubute to the MSE loss by computing the gradient \n",
    "    a_grad = (-2*error).mean()\n",
    "    b_grad = (-2*error*train_data_x).mean()\n",
    "    # back prob to reduce the MSE loss \n",
    "    a = a - lr*a_grad\n",
    "    b = b - lr*b_grad\n",
    "    \n",
    "    if (abs(lr*a_grad) < 0.001) & (abs(lr*b_grad) < 0.001):\n",
    "        print('epoch: ', epoch)\n",
    "        break\n",
    "else:\n",
    "    print('finish all epochs, not the local minimum')\n",
    "print(\"actual parameters: (1, 2)\")\n",
    "print(\"afeter training: (\", a, \",\", b, \")\")\n",
    "print(\"a_grad: \", a_grad)\n",
    "print(\"b_grad: \", b_grad)"
   ]
  },
  {
   "cell_type": "markdown",
   "metadata": {},
   "source": [
    "time to use torch "
   ]
  },
  {
   "cell_type": "code",
   "execution_count": 91,
   "metadata": {},
   "outputs": [],
   "source": [
    "import torch\n",
    "import torch.optim as optim\n",
    "import torch.nn as nn\n",
    "from torchviz import make_dot\n",
    "from torch.autograd import Variable"
   ]
  },
  {
   "cell_type": "code",
   "execution_count": 92,
   "metadata": {},
   "outputs": [
    {
     "data": {
      "text/plain": [
       "tensor([0.7713, 0.0636, 0.8631, 0.0254, 0.7320, 0.0740, 0.1987, 0.3110, 0.4722,\n",
       "        0.9696, 0.1220, 0.7751, 0.8022, 0.7296, 0.0977, 0.1849, 0.1560, 0.0206,\n",
       "        0.9869, 0.6233, 0.7081, 0.5979, 0.9219, 0.6376, 0.2809, 0.2588, 0.1196,\n",
       "        0.7290, 0.9489, 0.6075, 0.5613, 0.4938, 0.1818, 0.2713, 0.9699, 0.2123,\n",
       "        0.1834, 0.8662, 0.3745, 0.2912, 0.8084, 0.0581, 0.8324, 0.5427, 0.7722,\n",
       "        0.8872, 0.0885, 0.0452, 0.5924, 0.6842, 0.7132, 0.0344, 0.6011, 0.8155,\n",
       "        0.4402, 0.3252, 0.7852, 0.7608, 0.4952, 0.1997, 0.9507, 0.2921, 0.1395,\n",
       "        0.3117, 0.7069, 0.1159, 0.3585, 0.0055, 0.1960, 0.8948, 0.4561, 0.5248,\n",
       "        0.1409, 0.0651, 0.1705, 0.8287, 0.3253, 0.9395, 0.3309, 0.3664])"
      ]
     },
     "execution_count": 92,
     "metadata": {},
     "output_type": "execute_result"
    }
   ],
   "source": [
    "tensor_x = torch.FloatTensor(train_data_x)\n",
    "tensor_y = torch.FloatTensor(train_data_y)\n",
    "tensor_x"
   ]
  },
  {
   "cell_type": "code",
   "execution_count": 101,
   "metadata": {},
   "outputs": [],
   "source": [
    "# initilalize the parameters\n",
    "torch.manual_seed(42)\n",
    "a = Variable(torch.randn(1), requires_grad = True)\n",
    "b = Variable(torch.randn(1), requires_grad = True)\n",
    "\n",
    "lr = 0.1\n",
    "epochs = 1000\n",
    "opt = optim.SGD([a,b], lr=lr)\n",
    "loss_fcn = nn.MSELoss(reduction='mean')"
   ]
  },
  {
   "cell_type": "code",
   "execution_count": 106,
   "metadata": {},
   "outputs": [
    {
     "name": "stdout",
     "output_type": "stream",
     "text": [
      "actual parameters: (1, 2)\n",
      "afeter training: ( tensor([1.0235], requires_grad=True) , tensor([1.9690], requires_grad=True) )\n",
      "a_grad:  tensor([5.4640e-07])\n",
      "b_grad:  tensor([-5.7230e-07])\n"
     ]
    }
   ],
   "source": [
    "for epoch in range(epochs):\n",
    "    yhat = a + b*tensor_x\n",
    "    \n",
    "    loss = loss_fcn(tensor_y, yhat)\n",
    "    \n",
    "    if (epoch==0):\n",
    "        make_dot(loss)\n",
    "    \n",
    "    # No more telling PyTorch to let gradients go!\n",
    "    # a.grad.zero_()\n",
    "    # b.grad.zero_()\n",
    "    opt.zero_grad() \n",
    "    \n",
    "    loss.backward()\n",
    "    \n",
    "    # No more manual update!\n",
    "    # with torch.no_grad():\n",
    "    #     a -= lr * a.grad\n",
    "    #     b -= lr * b.grad\n",
    "    opt.step()\n",
    "print(\"actual parameters: (1, 2)\")\n",
    "print(\"afeter training: (\", a, \",\", b, \")\")\n",
    "print(\"a_grad: \", a.grad)\n",
    "print(\"b_grad: \", b.grad)"
   ]
  }
 ],
 "metadata": {
  "kernelspec": {
   "display_name": "Python 3",
   "language": "python",
   "name": "python3"
  },
  "language_info": {
   "codemirror_mode": {
    "name": "ipython",
    "version": 3
   },
   "file_extension": ".py",
   "mimetype": "text/x-python",
   "name": "python",
   "nbconvert_exporter": "python",
   "pygments_lexer": "ipython3",
   "version": "3.6.8"
  }
 },
 "nbformat": 4,
 "nbformat_minor": 2
}
