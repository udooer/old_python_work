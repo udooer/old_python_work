{
 "cells": [
  {
   "cell_type": "code",
   "execution_count": 1,
   "metadata": {},
   "outputs": [],
   "source": [
    "path = r\"G:\\target_strength\\2020_08_12_TS\\*.wav\"\n",
    "# filename = r\"\\S4A02746_20000104_124448.wav\"\n",
    "# file = path + filename\n",
    "from glob import glob "
   ]
  },
  {
   "cell_type": "code",
   "execution_count": 2,
   "metadata": {
    "scrolled": true
   },
   "outputs": [
    {
     "data": {
      "text/plain": [
       "['G:\\\\target_strength\\\\2020_08_12_TS\\\\0424_AI0_chirp_9.3m_with_target.wav',\n",
       " 'G:\\\\target_strength\\\\2020_08_12_TS\\\\0520_AI0_chirp_9.3m_without_target.wav',\n",
       " 'G:\\\\target_strength\\\\2020_08_12_TS\\\\0941_AI0_chirp_52m_with_target.wav',\n",
       " 'G:\\\\target_strength\\\\2020_08_12_TS\\\\1152_AI0_chirp_52m_without_target.wav',\n",
       " 'G:\\\\target_strength\\\\2020_08_12_TS\\\\1158_AI0_chirp_53m_without_target.wav',\n",
       " 'G:\\\\target_strength\\\\2020_08_12_TS\\\\1214_AI0_chirp_53m_with_target.wav']"
      ]
     },
     "execution_count": 2,
     "metadata": {},
     "output_type": "execute_result"
    }
   ],
   "source": [
    "filelist = glob(path)\n",
    "filelist"
   ]
  },
  {
   "cell_type": "code",
   "execution_count": 3,
   "metadata": {},
   "outputs": [],
   "source": [
    "# from scipy.io import wavfile (do not support 24bits depth)\n",
    "import soundfile as sf\n",
    "import numpy as np\n",
    "import matplotlib.pyplot as plt\n",
    "import math\n",
    "# %matplotlib notebook\n",
    "import os"
   ]
  },
  {
   "cell_type": "code",
   "execution_count": 4,
   "metadata": {},
   "outputs": [],
   "source": [
    "class SL():\n",
    "    def __init__(self, file):\n",
    "        self.file = file\n",
    "        self.bits = 24\n",
    "        self.range = 2\n",
    "        title = self.file.split('\\\\')[-1].split('.')[0].split('_')\n",
    "        self.plot_title = title[1] + \"_\" + title[2]\n",
    "        self.freq = title[2]\n",
    "        print(\"title: {}\".format(self.plot_title))\n",
    "    def readWavFileToArray(self):\n",
    "#         fp = open(self.file, 'r')\n",
    "#         self.fs, self.values = wavfile.read(self.file)\n",
    "#         self.values = self.values*(self.range/pow(2,self.bits))\n",
    "        self.values, self.fs = sf.read(self.file)\n",
    "        self.values = self.values-np.mean(self.values)\n",
    "        self.length = len(self.values)\n",
    "        self.time = np.arange(self.length)/self.fs\n",
    "        print(\"total lenght: {}, time duration: {}\".\n",
    "              format(self.length, self.length//self.fs))\n",
    "    def plot(self):\n",
    "        plt.plot(self.time, self.values)\n",
    "        plt.title(self.plot_title)\n",
    "    def findPeakIndex(self, threshold):\n",
    "        mask = ((self.values[1:-1]-self.values[2:])>0)*((self.values[1:-1]-self.values[:-2])>0)*(self.values[1:-1]>threshold)\n",
    "        self.indexs = []\n",
    "        for index, i in enumerate(mask):\n",
    "            if(i):\n",
    "                self.indexs.append(index+1)\n",
    "        count=1\n",
    "        self.indexs = np.array(self.indexs)\n",
    "        diff = self.indexs[1:]-self.indexs[:-1]\n",
    "        \n",
    "        start_skip=0\n",
    "        end_skip=0\n",
    "        self.category=[]\n",
    "        self.category.append(self.indexs[start_skip])\n",
    "        for index, value in enumerate(diff):\n",
    "            if value>self.fs:\n",
    "                count+=1\n",
    "                self.category.append(self.indexs[index-end_skip])\n",
    "                self.category.append(self.indexs[index+1+start_skip])\n",
    "        self.category.append(self.indexs[-(1+end_skip)])\n",
    "        print(\"total sound generated: {}\".format(count))\n",
    "    def plotWithPeak(self):\n",
    "        fig, ax = plt.subplots()\n",
    "        ax.plot(self.time, self.values)\n",
    "        ax.plot(self.time[self.indexs], self.values[self.indexs], 'o')\n",
    "        ax.set_title(self.plot_title)\n",
    "        fig.tight_layout()\n",
    "    def plotWithFilterPeak(self):\n",
    "        fig, ax = plt.subplots()\n",
    "        ax.plot(self.time, self.values)\n",
    "        ax.plot(self.time[self.category], self.values[self.category], 'o')\n",
    "        ax.set_title(self.plot_title)\n",
    "        fig.tight_layout()\n",
    "    \n",
    "    def rms(self, x):\n",
    "        return np.sqrt(np.mean(x*x))\n",
    "    def calculateSL(self):\n",
    "        self.sen = -207\n",
    "        length = len(self.category)\n",
    "        print()\n",
    "        if (length%2==0 and length>0):\n",
    "            self.SL=[]\n",
    "            for i in range(length//2):\n",
    "                start = self.category[2*i]\n",
    "                end = self.category[2*i+1]\n",
    "                v = self.rms(self.values[start:end])\n",
    "                sl = 20*math.log10(v)-self.sen\n",
    "                self.SL.append(sl)\n",
    "        else:\n",
    "            print(\"the peak is wrong or empty, check the plot with peak\")\n",
    "    def getSL(self):\n",
    "        return self.SL\n",
    "    def getData(self):\n",
    "        return self.values\n",
    "    def getIndex(self):\n",
    "        return self.indexs\n",
    "    def getTime(self):\n",
    "        return self.time"
   ]
  },
  {
   "cell_type": "code",
   "execution_count": 5,
   "metadata": {},
   "outputs": [
    {
     "data": {
      "text/plain": [
       "['G:\\\\target_strength\\\\2020_08_12_TS\\\\0424_AI0_chirp_9.3m_with_target.wav',\n",
       " 'G:\\\\target_strength\\\\2020_08_12_TS\\\\0520_AI0_chirp_9.3m_without_target.wav',\n",
       " 'G:\\\\target_strength\\\\2020_08_12_TS\\\\0941_AI0_chirp_52m_with_target.wav',\n",
       " 'G:\\\\target_strength\\\\2020_08_12_TS\\\\1152_AI0_chirp_52m_without_target.wav',\n",
       " 'G:\\\\target_strength\\\\2020_08_12_TS\\\\1158_AI0_chirp_53m_without_target.wav',\n",
       " 'G:\\\\target_strength\\\\2020_08_12_TS\\\\1214_AI0_chirp_53m_with_target.wav']"
      ]
     },
     "execution_count": 5,
     "metadata": {},
     "output_type": "execute_result"
    }
   ],
   "source": [
    "filelist"
   ]
  },
  {
   "cell_type": "code",
   "execution_count": 38,
   "metadata": {
    "scrolled": false
   },
   "outputs": [
    {
     "name": "stdout",
     "output_type": "stream",
     "text": [
      "title: AI0_chirp\n",
      "total lenght: 20525000, time duration: 200\n"
     ]
    }
   ],
   "source": [
    "tank = SL(filelist[4])\n",
    "tank.readWavFileToArray()\n",
    "# tank.plot()"
   ]
  },
  {
   "cell_type": "code",
   "execution_count": 39,
   "metadata": {},
   "outputs": [
    {
     "name": "stdout",
     "output_type": "stream",
     "text": [
      "total sound generated: 59\n"
     ]
    },
    {
     "data": {
      "image/png": "[encoded data removed]",
      "text/plain": [
       "<Figure size 432x288 with 1 Axes>"
      ]
     },
     "metadata": {
      "needs_background": "light"
     },
     "output_type": "display_data"
    }
   ],
   "source": [
    "tank.findPeakIndex(0.3)\n",
    "tank.plotWithPeak()\n",
    "# b.calculateSL()"
   ]
  },
  {
   "cell_type": "code",
   "execution_count": 40,
   "metadata": {},
   "outputs": [],
   "source": [
    "index_tank = tank.getIndex()\n",
    "data_tank = tank.getData()"
   ]
  },
  {
   "cell_type": "code",
   "execution_count": 41,
   "metadata": {},
   "outputs": [
    {
     "name": "stdout",
     "output_type": "stream",
     "text": [
      "title: AI0_chirp\n",
      "total lenght: 20100000, time duration: 196\n"
     ]
    }
   ],
   "source": [
    "target = SL(filelist[5])\n",
    "target.readWavFileToArray()\n",
    "# target.plot()"
   ]
  },
  {
   "cell_type": "code",
   "execution_count": 42,
   "metadata": {},
   "outputs": [
    {
     "name": "stdout",
     "output_type": "stream",
     "text": [
      "total sound generated: 59\n"
     ]
    },
    {
     "data": {
      "image/png": "[encoded data removed]",
      "text/plain": [
       "<Figure size 432x288 with 1 Axes>"
      ]
     },
     "metadata": {
      "needs_background": "light"
     },
     "output_type": "display_data"
    }
   ],
   "source": [
    "target.findPeakIndex(0.3)\n",
    "target.plotWithPeak()\n",
    "# b.calculateSL()"
   ]
  },
  {
   "cell_type": "code",
   "execution_count": 43,
   "metadata": {},
   "outputs": [],
   "source": [
    "index_target = target.getIndex()\n",
    "data_target = target.getData()"
   ]
  },
  {
   "cell_type": "code",
   "execution_count": 44,
   "metadata": {},
   "outputs": [],
   "source": [
    "fs = 102400\n",
    "\n",
    "os_path = r\"G:\\python_work\\03_target_strength\\fig\\2020_08_11\"\n",
    "os.chdir(os_path)\n",
    "\n",
    "for i in range(len(index_tank)):\n",
    "    start_tank = int(index_tank[i]-0.0005*fs)\n",
    "    end_tank = int(start_tank + fs*0.001)\n",
    "    \n",
    "    \n",
    "    tank = data_tank[start_tank:end_tank]\n",
    "    fig, ax = plt.subplots()\n",
    "    time = np.arange(len(tank))/fs\n",
    "    ax.plot(time, tank)\n",
    "    ax.set_title(\"chirp number {}\".format(i+119))\n",
    "    ax.set_xlabel(\"Time(s)\")\n",
    "    ax.set_ylabel(\"Voltage(v)\")\n",
    "    fig.savefig('index_{}.png'.format(i+119))\n",
    "    plt.close()"
   ]
  },
  {
   "cell_type": "code",
   "execution_count": 45,
   "metadata": {},
   "outputs": [
    {
     "data": {
      "text/plain": [
       "59"
      ]
     },
     "execution_count": 45,
     "metadata": {},
     "output_type": "execute_result"
    }
   ],
   "source": [
    "len(index_target)"
   ]
  },
  {
   "cell_type": "code",
   "execution_count": 46,
   "metadata": {},
   "outputs": [],
   "source": [
    "fs = 102400\n",
    "\n",
    "os_path = r\"G:\\python_work\\03_target_strength\\fig\\2020_08_11\"\n",
    "os.chdir(os_path)\n",
    "\n",
    "for i in range(len(index_target)):\n",
    "    start_target = int(index_target[i]-0.0005*fs)\n",
    "    end_target = int(start_target + fs*0.001)\n",
    "    \n",
    "    \n",
    "    tank = data_target[start_target:end_target]\n",
    "    fig, ax = plt.subplots()\n",
    "    time = np.arange(len(tank))/fs\n",
    "    ax.plot(time, tank)\n",
    "    ax.set_title(\"chirp number {}\".format(i+178))\n",
    "    ax.set_xlabel(\"Time(s)\")\n",
    "    ax.set_ylabel(\"Voltage(v)\")\n",
    "    fig.savefig('index_{}.png'.format(i+178))\n",
    "    plt.close()"
   ]
  },
  {
   "cell_type": "code",
   "execution_count": 47,
   "metadata": {},
   "outputs": [],
   "source": [
    "average_temp = average"
   ]
  },
  {
   "cell_type": "code",
   "execution_count": 48,
   "metadata": {},
   "outputs": [
    {
     "data": {
      "text/plain": [
       "[<matplotlib.lines.Line2D at 0x2290a5864c0>]"
      ]
     },
     "execution_count": 48,
     "metadata": {},
     "output_type": "execute_result"
    },
    {
     "data": {
      "image/png": "[encoded data removed]",
      "text/plain": [
       "<Figure size 432x288 with 1 Axes>"
      ]
     },
     "metadata": {
      "needs_background": "light"
     },
     "output_type": "display_data"
    }
   ],
   "source": [
    "fs = 102400\n",
    "count = int(fs*0.001)\n",
    "average = np.zeros(count)\n",
    "for i in range(len(index_target)):\n",
    "    start_target = int(index_target[i]-0.0005*fs)\n",
    "    end_target = int(start_target + fs*0.001)\n",
    "    target = data_target[start_target:end_target]\n",
    "    average = average + target\n",
    "for i in range(len(index_tank)):\n",
    "    start_tank = int(index_tank[i]-0.0005*fs)\n",
    "    end_tank = int(start_tank + fs*0.001)\n",
    "    tank = data_tank[start_tank:end_tank]\n",
    "    average = average + target\n",
    "fig, ax = plt.subplots()\n",
    "average = (average/(len(index_tank)+len(index_target))+average_temp)/2\n",
    "time = np.arange(len(average))/fs\n",
    "ax.plot(time, average)"
   ]
  },
  {
   "cell_type": "code",
   "execution_count": 49,
   "metadata": {},
   "outputs": [],
   "source": [
    "# power_list = []\n",
    "power_list = list(np.load(\"error.npy\"))\n",
    "for i in range(len(index_target)):\n",
    "    start_target = int(index_target[i]-0.0005*fs)\n",
    "    end_target = int(start_target + fs*0.001)\n",
    "    target = data_target[start_target:end_target]\n",
    "    diff = target-average\n",
    "    power_list.append(np.sum(diff*diff))\n",
    "for i in range(len(index_tank)):\n",
    "    start_tank = int(index_tank[i]-0.0005*fs)\n",
    "    end_tank = int(start_tank + fs*0.001)\n",
    "    tank = data_tank[start_tank:end_tank]\n",
    "    diff = tank - average\n",
    "    power_list.append(np.sum(diff*diff))"
   ]
  },
  {
   "cell_type": "code",
   "execution_count": 50,
   "metadata": {},
   "outputs": [
    {
     "data": {
      "text/plain": [
       "237"
      ]
     },
     "execution_count": 50,
     "metadata": {},
     "output_type": "execute_result"
    }
   ],
   "source": [
    "len(power_list)"
   ]
  },
  {
   "cell_type": "code",
   "execution_count": 51,
   "metadata": {},
   "outputs": [],
   "source": [
    "np.save(\"error\", np.array(power_list))"
   ]
  },
  {
   "cell_type": "code",
   "execution_count": 52,
   "metadata": {},
   "outputs": [
    {
     "data": {
      "text/plain": [
       "Text(0.3, 0.65, 'stdev=0.0444, mean=0.0488')"
      ]
     },
     "execution_count": 52,
     "metadata": {},
     "output_type": "execute_result"
    },
    {
     "data": {
      "image/png": "[encoded data removed]",
      "text/plain": [
       "<Figure size 432x288 with 1 Axes>"
      ]
     },
     "metadata": {
      "needs_background": "light"
     },
     "output_type": "display_data"
    }
   ],
   "source": [
    "import statistics\n",
    "import pandas as pd\n",
    "statistic_list = power_list\n",
    "\n",
    "std = statistics.stdev(statistic_list)\n",
    "mean = statistics.mean(statistic_list)\n",
    "\n",
    "df = pd.DataFrame(statistic_list)\n",
    "ax = df.plot.hist(bins=50)\n",
    "\n",
    "s = \"stdev={:.4f}, mean={:.4f}\".format(std,mean)\n",
    "# ax.set_xlabel(\"Source level(dB re 1upa)\")\n",
    "ax.set_xlabel(\"error of power\")\n",
    "ax.text(0.3, 0.65, s=s, transform=ax.transAxes, fontsize=15)"
   ]
  },
  {
   "cell_type": "code",
   "execution_count": 24,
   "metadata": {},
   "outputs": [],
   "source": [
    "def rms(x):\n",
    "    return np.sqrt(np.mean(x*x))"
   ]
  },
  {
   "cell_type": "code",
   "execution_count": 25,
   "metadata": {},
   "outputs": [],
   "source": [
    "def compute_SL(x):\n",
    "    sen = -207\n",
    "    r = rms(x)\n",
    "    sl = 20*math.log10(r)-sen\n",
    "    return sl"
   ]
  },
  {
   "cell_type": "code",
   "execution_count": 54,
   "metadata": {},
   "outputs": [],
   "source": [
    "# sl_list = []\n",
    "sl_list = list(np.load(\"sl.npy\"))\n",
    "for i in range(len(index_target)):\n",
    "    start_target = int(index_target[i]-0.0005*fs)\n",
    "    end_target = int(start_target + fs*0.001)\n",
    "    target = data_target[start_target:end_target]\n",
    "    sl = compute_SL(target)\n",
    "    sl_list.append(sl)\n",
    "for i in range(len(index_tank)):\n",
    "    start_tank = int(index_tank[i]-0.0005*fs)\n",
    "    end_tank = int(start_tank + fs*0.001)\n",
    "    tank = data_tank[start_tank:end_tank]\n",
    "    sl = compute_SL(tank)\n",
    "    sl_list.append(sl)"
   ]
  },
  {
   "cell_type": "code",
   "execution_count": 55,
   "metadata": {},
   "outputs": [
    {
     "data": {
      "text/plain": [
       "237"
      ]
     },
     "execution_count": 55,
     "metadata": {},
     "output_type": "execute_result"
    }
   ],
   "source": [
    "len(sl_list)"
   ]
  },
  {
   "cell_type": "code",
   "execution_count": 56,
   "metadata": {},
   "outputs": [],
   "source": [
    "np.save(\"sl\",np.array(sl_list))"
   ]
  },
  {
   "cell_type": "code",
   "execution_count": 57,
   "metadata": {},
   "outputs": [
    {
     "data": {
      "text/plain": [
       "Text(0.3, 0.65, 'stdev=0.177, mean=190.77')"
      ]
     },
     "execution_count": 57,
     "metadata": {},
     "output_type": "execute_result"
    },
    {
     "data": {
      "image/png": "[encoded data removed]",
      "text/plain": [
       "<Figure size 432x288 with 1 Axes>"
      ]
     },
     "metadata": {
      "needs_background": "light"
     },
     "output_type": "display_data"
    }
   ],
   "source": [
    "import statistics\n",
    "import pandas as pd\n",
    "statistic_list = sl_list\n",
    "\n",
    "std = statistics.stdev(statistic_list)\n",
    "mean = statistics.mean(statistic_list)\n",
    "\n",
    "df = pd.DataFrame(statistic_list)\n",
    "ax = df.plot.hist(bins=50)\n",
    "\n",
    "s = \"stdev={:.3f}, mean={:.2f}\".format(std,mean)\n",
    "ax.set_xlabel(\"Source level(dB re 1upa)\")\n",
    "# ax.set_xlabel(\"error of power\")\n",
    "ax.text(0.3, 0.65, s=s, transform=ax.transAxes, fontsize=15)"
   ]
  },
  {
   "cell_type": "code",
   "execution_count": null,
   "metadata": {},
   "outputs": [],
   "source": []
  }
 ],
 "metadata": {
  "kernelspec": {
   "display_name": "Python 3",
   "language": "python",
   "name": "python3"
  },
  "language_info": {
   "codemirror_mode": {
    "name": "ipython",
    "version": 3
   },
   "file_extension": ".py",
   "mimetype": "text/x-python",
   "name": "python",
   "nbconvert_exporter": "python",
   "pygments_lexer": "ipython3",
   "version": "3.8.5"
  }
 },
 "nbformat": 4,
 "nbformat_minor": 2
}
