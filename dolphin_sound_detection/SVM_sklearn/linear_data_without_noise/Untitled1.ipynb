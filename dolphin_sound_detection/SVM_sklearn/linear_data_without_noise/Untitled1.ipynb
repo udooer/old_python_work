{
 "cells": [
  {
   "cell_type": "code",
   "execution_count": 1,
   "metadata": {},
   "outputs": [],
   "source": [
    "import numpy as np \n",
    "import matplotlib.pyplot as plt"
   ]
  },
  {
   "cell_type": "code",
   "execution_count": 2,
   "metadata": {},
   "outputs": [],
   "source": [
    "x, y = np.meshgrid(np.arange(7), np.arange(10))"
   ]
  },
  {
   "cell_type": "code",
   "execution_count": 3,
   "metadata": {},
   "outputs": [
    {
     "data": {
      "text/plain": [
       "array([[0, 1, 2, 3, 4, 5, 6],\n",
       "       [0, 1, 2, 3, 4, 5, 6],\n",
       "       [0, 1, 2, 3, 4, 5, 6],\n",
       "       [0, 1, 2, 3, 4, 5, 6],\n",
       "       [0, 1, 2, 3, 4, 5, 6],\n",
       "       [0, 1, 2, 3, 4, 5, 6],\n",
       "       [0, 1, 2, 3, 4, 5, 6],\n",
       "       [0, 1, 2, 3, 4, 5, 6],\n",
       "       [0, 1, 2, 3, 4, 5, 6],\n",
       "       [0, 1, 2, 3, 4, 5, 6]])"
      ]
     },
     "execution_count": 3,
     "metadata": {},
     "output_type": "execute_result"
    }
   ],
   "source": [
    "x"
   ]
  },
  {
   "cell_type": "code",
   "execution_count": 4,
   "metadata": {},
   "outputs": [
    {
     "data": {
      "text/plain": [
       "array([[0, 0, 0, 0, 0, 0, 0],\n",
       "       [1, 1, 1, 1, 1, 1, 1],\n",
       "       [2, 2, 2, 2, 2, 2, 2],\n",
       "       [3, 3, 3, 3, 3, 3, 3],\n",
       "       [4, 4, 4, 4, 4, 4, 4],\n",
       "       [5, 5, 5, 5, 5, 5, 5],\n",
       "       [6, 6, 6, 6, 6, 6, 6],\n",
       "       [7, 7, 7, 7, 7, 7, 7],\n",
       "       [8, 8, 8, 8, 8, 8, 8],\n",
       "       [9, 9, 9, 9, 9, 9, 9]])"
      ]
     },
     "execution_count": 4,
     "metadata": {},
     "output_type": "execute_result"
    }
   ],
   "source": [
    "y"
   ]
  },
  {
   "cell_type": "code",
   "execution_count": 6,
   "metadata": {},
   "outputs": [
    {
     "data": {
      "text/plain": [
       "array([[0.        , 0.47942554, 0.84147098, 0.99749499, 0.90929743,\n",
       "        0.59847214, 0.14112001],\n",
       "       [0.        , 0.47942554, 0.84147098, 0.99749499, 0.90929743,\n",
       "        0.59847214, 0.14112001],\n",
       "       [0.        , 0.47942554, 0.84147098, 0.99749499, 0.90929743,\n",
       "        0.59847214, 0.14112001],\n",
       "       [0.        , 0.47942554, 0.84147098, 0.99749499, 0.90929743,\n",
       "        0.59847214, 0.14112001],\n",
       "       [0.        , 0.47942554, 0.84147098, 0.99749499, 0.90929743,\n",
       "        0.59847214, 0.14112001],\n",
       "       [0.        , 0.47942554, 0.84147098, 0.99749499, 0.90929743,\n",
       "        0.59847214, 0.14112001],\n",
       "       [0.        , 0.47942554, 0.84147098, 0.99749499, 0.90929743,\n",
       "        0.59847214, 0.14112001],\n",
       "       [0.        , 0.47942554, 0.84147098, 0.99749499, 0.90929743,\n",
       "        0.59847214, 0.14112001],\n",
       "       [0.        , 0.47942554, 0.84147098, 0.99749499, 0.90929743,\n",
       "        0.59847214, 0.14112001],\n",
       "       [0.        , 0.47942554, 0.84147098, 0.99749499, 0.90929743,\n",
       "        0.59847214, 0.14112001]])"
      ]
     },
     "execution_count": 6,
     "metadata": {},
     "output_type": "execute_result"
    }
   ],
   "source": [
    "z = np.sin(0.5 * x)"
   ]
  },
  {
   "cell_type": "code",
   "execution_count": 24,
   "metadata": {},
   "outputs": [
    {
     "data": {
      "image/png": "[encoded data removed]",
      "text/plain": [
       "<Figure size 432x288 with 2 Axes>"
      ]
     },
     "metadata": {
      "needs_background": "light"
     },
     "output_type": "display_data"
    }
   ],
   "source": [
    "plt.figure()\n",
    "cs = plt.contourf(x, y, z)\n",
    "# plt.clabel(cs, inline=True, fontsize=10, colors='k')\n",
    "plt.colorbar()\n",
    "plt.show()"
   ]
  },
  {
   "cell_type": "code",
   "execution_count": 27,
   "metadata": {},
   "outputs": [
    {
     "data": {
      "text/plain": [
       "array([0, 1, 2, 3, 4, 5, 6, 0, 1, 2, 3, 4, 5, 6, 0, 1, 2, 3, 4, 5, 6, 0,\n",
       "       1, 2, 3, 4, 5, 6, 0, 1, 2, 3, 4, 5, 6, 0, 1, 2, 3, 4, 5, 6, 0, 1,\n",
       "       2, 3, 4, 5, 6, 0, 1, 2, 3, 4, 5, 6, 0, 1, 2, 3, 4, 5, 6, 0, 1, 2,\n",
       "       3, 4, 5, 6])"
      ]
     },
     "execution_count": 27,
     "metadata": {},
     "output_type": "execute_result"
    }
   ],
   "source": [
    "x.ravel()"
   ]
  },
  {
   "cell_type": "code",
   "execution_count": null,
   "metadata": {},
   "outputs": [],
   "source": []
  }
 ],
 "metadata": {
  "kernelspec": {
   "display_name": "Python [conda env:root] *",
   "language": "python",
   "name": "conda-root-py"
  },
  "language_info": {
   "codemirror_mode": {
    "name": "ipython",
    "version": 3
   },
   "file_extension": ".py",
   "mimetype": "text/x-python",
   "name": "python",
   "nbconvert_exporter": "python",
   "pygments_lexer": "ipython3",
   "version": "3.7.4"
  }
 },
 "nbformat": 4,
 "nbformat_minor": 2
}
