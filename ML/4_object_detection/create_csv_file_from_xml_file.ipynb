{
 "cells": [
  {
   "cell_type": "code",
   "execution_count": 28,
   "metadata": {},
   "outputs": [
    {
     "data": {
      "text/plain": [
       "364"
      ]
     },
     "execution_count": 28,
     "metadata": {},
     "output_type": "execute_result"
    }
   ],
   "source": [
    "from glob import glob\n",
    "annotations = sorted(glob('BCCD_Dataset/BCCD/Annotations/*.xml'))\n",
    "len(annotations)"
   ]
  },
  {
   "cell_type": "code",
   "execution_count": 32,
   "metadata": {},
   "outputs": [
    {
     "data": {
      "text/plain": [
       "['BCCD_Dataset/BCCD/Annotations/BloodImage_00192.xml',\n",
       " 'BCCD_Dataset/BCCD/Annotations/BloodImage_00095.xml',\n",
       " 'BCCD_Dataset/BCCD/Annotations/BloodImage_00199.xml',\n",
       " 'BCCD_Dataset/BCCD/Annotations/BloodImage_00250.xml',\n",
       " 'BCCD_Dataset/BCCD/Annotations/BloodImage_00386.xml',\n",
       " 'BCCD_Dataset/BCCD/Annotations/BloodImage_00161.xml',\n",
       " 'BCCD_Dataset/BCCD/Annotations/BloodImage_00323.xml',\n",
       " 'BCCD_Dataset/BCCD/Annotations/BloodImage_00383.xml',\n",
       " 'BCCD_Dataset/BCCD/Annotations/BloodImage_00053.xml',\n",
       " 'BCCD_Dataset/BCCD/Annotations/BloodImage_00174.xml',\n",
       " 'BCCD_Dataset/BCCD/Annotations/BloodImage_00182.xml',\n",
       " 'BCCD_Dataset/BCCD/Annotations/BloodImage_00063.xml',\n",
       " 'BCCD_Dataset/BCCD/Annotations/BloodImage_00167.xml',\n",
       " 'BCCD_Dataset/BCCD/Annotations/BloodImage_00235.xml',\n",
       " 'BCCD_Dataset/BCCD/Annotations/BloodImage_00210.xml',\n",
       " 'BCCD_Dataset/BCCD/Annotations/BloodImage_00338.xml',\n",
       " 'BCCD_Dataset/BCCD/Annotations/BloodImage_00036.xml',\n",
       " 'BCCD_Dataset/BCCD/Annotations/BloodImage_00221.xml',\n",
       " 'BCCD_Dataset/BCCD/Annotations/BloodImage_00244.xml',\n",
       " 'BCCD_Dataset/BCCD/Annotations/BloodImage_00163.xml',\n",
       " 'BCCD_Dataset/BCCD/Annotations/BloodImage_00212.xml',\n",
       " 'BCCD_Dataset/BCCD/Annotations/BloodImage_00348.xml',\n",
       " 'BCCD_Dataset/BCCD/Annotations/BloodImage_00169.xml',\n",
       " 'BCCD_Dataset/BCCD/Annotations/BloodImage_00148.xml',\n",
       " 'BCCD_Dataset/BCCD/Annotations/BloodImage_00223.xml',\n",
       " 'BCCD_Dataset/BCCD/Annotations/BloodImage_00010.xml',\n",
       " 'BCCD_Dataset/BCCD/Annotations/BloodImage_00143.xml',\n",
       " 'BCCD_Dataset/BCCD/Annotations/BloodImage_00315.xml',\n",
       " 'BCCD_Dataset/BCCD/Annotations/BloodImage_00322.xml',\n",
       " 'BCCD_Dataset/BCCD/Annotations/BloodImage_00162.xml',\n",
       " 'BCCD_Dataset/BCCD/Annotations/BloodImage_00097.xml',\n",
       " 'BCCD_Dataset/BCCD/Annotations/BloodImage_00336.xml',\n",
       " 'BCCD_Dataset/BCCD/Annotations/BloodImage_00184.xml',\n",
       " 'BCCD_Dataset/BCCD/Annotations/BloodImage_00198.xml',\n",
       " 'BCCD_Dataset/BCCD/Annotations/BloodImage_00171.xml',\n",
       " 'BCCD_Dataset/BCCD/Annotations/BloodImage_00158.xml',\n",
       " 'BCCD_Dataset/BCCD/Annotations/BloodImage_00068.xml',\n",
       " 'BCCD_Dataset/BCCD/Annotations/BloodImage_00257.xml',\n",
       " 'BCCD_Dataset/BCCD/Annotations/BloodImage_00293.xml',\n",
       " 'BCCD_Dataset/BCCD/Annotations/BloodImage_00058.xml',\n",
       " 'BCCD_Dataset/BCCD/Annotations/BloodImage_00391.xml',\n",
       " 'BCCD_Dataset/BCCD/Annotations/BloodImage_00156.xml',\n",
       " 'BCCD_Dataset/BCCD/Annotations/BloodImage_00133.xml',\n",
       " 'BCCD_Dataset/BCCD/Annotations/BloodImage_00375.xml',\n",
       " 'BCCD_Dataset/BCCD/Annotations/BloodImage_00159.xml',\n",
       " 'BCCD_Dataset/BCCD/Annotations/BloodImage_00031.xml',\n",
       " 'BCCD_Dataset/BCCD/Annotations/BloodImage_00410.xml',\n",
       " 'BCCD_Dataset/BCCD/Annotations/BloodImage_00064.xml',\n",
       " 'BCCD_Dataset/BCCD/Annotations/BloodImage_00075.xml',\n",
       " 'BCCD_Dataset/BCCD/Annotations/BloodImage_00261.xml']"
      ]
     },
     "execution_count": 32,
     "metadata": {},
     "output_type": "execute_result"
    }
   ],
   "source": [
    "annotations[:50]"
   ]
  },
  {
   "cell_type": "code",
   "execution_count": 30,
   "metadata": {},
   "outputs": [
    {
     "data": {
      "text/plain": [
       "'BloodImage_00010.jpg'"
      ]
     },
     "execution_count": 30,
     "metadata": {},
     "output_type": "execute_result"
    }
   ],
   "source": [
    "annotations[10].split('/')[-1].split('.')[0] + '.jpg'"
   ]
  },
  {
   "cell_type": "code",
   "execution_count": 28,
   "metadata": {},
   "outputs": [
    {
     "data": {
      "text/plain": [
       "0    shane\n",
       "1    Logan\n",
       "2    emily\n",
       "3    wendy\n",
       "Name: name, dtype: object"
      ]
     },
     "execution_count": 28,
     "metadata": {},
     "output_type": "execute_result"
    }
   ],
   "source": [
    "import pandas as pd\n",
    "data = {'name':['shane', 'Logan', 'emily', 'wendy'], 'age': [18, 20, 22, 20]}\n",
    "df = pd.DataFrame(data, columns=['name', 'age'])\n"
   ]
  },
  {
   "cell_type": "code",
   "execution_count": 33,
   "metadata": {},
   "outputs": [
    {
     "name": "stdout",
     "output_type": "stream",
     "text": [
      "Populating the interactive namespace from numpy and matplotlib\n"
     ]
    },
    {
     "name": "stderr",
     "output_type": "stream",
     "text": [
      "/usr/lib/python3/dist-packages/IPython/core/magics/pylab.py:161: UserWarning: pylab import has clobbered these variables: ['random']\n",
      "`%matplotlib` prevents importing * from pylab and numpy\n",
      "  \"\\n`%matplotlib` prevents importing * from pylab and numpy\"\n"
     ]
    }
   ],
   "source": [
    "%pylab inline\n",
    "\n",
    "import os, sys, random\n",
    "import xml.etree.ElementTree as ET\n",
    "from glob import glob\n",
    "import pandas as pd\n",
    "from shutil import copyfile\n",
    "\n",
    "annotations = sorted(glob('BCCD_Dataset/BCCD/Annotations/*.xml'))\n",
    "\n",
    "df = []\n",
    "cnt = 0\n",
    "for file in annotations[:-70]:\n",
    "    prev_filename = file.split('/')[-1].split('.')[0] + '.jpg'\n",
    "    filename = str(cnt) + '.jpg'\n",
    "    row = []\n",
    "    parsedXML = ET.parse(file)\n",
    "    for node in parsedXML.getroot().iter('object'):\n",
    "        blood_cells = node.find('name').text\n",
    "        xmin = int(node.find('bndbox/xmin').text)\n",
    "        xmax = int(node.find('bndbox/xmax').text)\n",
    "        ymin = int(node.find('bndbox/ymin').text)\n",
    "        ymax = int(node.find('bndbox/ymax').text)\n",
    "\n",
    "        row = [prev_filename, filename, blood_cells, xmin, xmax,\n",
    "        ymin, ymax]\n",
    "        df.append(row)\n",
    "    cnt += 1\n",
    "\n",
    "data = pd.DataFrame(df, columns=['prev_filename', 'filename', 'cell_type',\n",
    "'xmin', 'xmax', 'ymin', 'ymax'])\n",
    "\n",
    "data[['prev_filename', 'filename', 'cell_type', 'xmin', 'xmax', 'ymin', 'ymax']].to_csv(\n",
    "    r'/home/shane/ML/4_object_detection/BCCD_Dataset/BCCD/train.csv', index = None, header=True)"
   ]
  },
  {
   "cell_type": "code",
   "execution_count": 34,
   "metadata": {},
   "outputs": [
    {
     "name": "stdout",
     "output_type": "stream",
     "text": [
      "Populating the interactive namespace from numpy and matplotlib\n"
     ]
    },
    {
     "name": "stderr",
     "output_type": "stream",
     "text": [
      "/usr/lib/python3/dist-packages/IPython/core/magics/pylab.py:161: UserWarning: pylab import has clobbered these variables: ['random']\n",
      "`%matplotlib` prevents importing * from pylab and numpy\n",
      "  \"\\n`%matplotlib` prevents importing * from pylab and numpy\"\n"
     ]
    }
   ],
   "source": [
    "%pylab inline\n",
    "\n",
    "import os, sys, random\n",
    "import xml.etree.ElementTree as ET\n",
    "from glob import glob\n",
    "import pandas as pd\n",
    "from shutil import copyfile\n",
    "\n",
    "annotations = sorted(glob('BCCD_Dataset/BCCD/Annotations/*.xml'))\n",
    "\n",
    "df = []\n",
    "cnt = 294\n",
    "for file in annotations[-70:]:\n",
    "    prev_filename = file.split('/')[-1].split('.')[0] + '.jpg'\n",
    "    filename = str(cnt) + '.jpg'\n",
    "    row = []\n",
    "    parsedXML = ET.parse(file)\n",
    "    for node in parsedXML.getroot().iter('object'):\n",
    "        blood_cells = node.find('name').text\n",
    "        xmin = int(node.find('bndbox/xmin').text)\n",
    "        xmax = int(node.find('bndbox/xmax').text)\n",
    "        ymin = int(node.find('bndbox/ymin').text)\n",
    "        ymax = int(node.find('bndbox/ymax').text)\n",
    "\n",
    "        row = [prev_filename, filename, blood_cells, xmin, xmax,\n",
    "        ymin, ymax]\n",
    "        df.append(row)\n",
    "    cnt += 1\n",
    "\n",
    "data = pd.DataFrame(df, columns=['prev_filename', 'filename', 'cell_type',\n",
    "'xmin', 'xmax', 'ymin', 'ymax'])\n",
    "\n",
    "data[['prev_filename', 'filename', 'cell_type', 'xmin', 'xmax', 'ymin', 'ymax']].to_csv(\n",
    "    r'/home/shane/ML/4_object_detection/BCCD_Dataset/BCCD/test.csv', index = None, header=True)"
   ]
  },
  {
   "cell_type": "code",
   "execution_count": null,
   "metadata": {},
   "outputs": [],
   "source": []
  }
 ],
 "metadata": {
  "kernelspec": {
   "display_name": "Python 3",
   "language": "python",
   "name": "python3"
  },
  "language_info": {
   "codemirror_mode": {
    "name": "ipython",
    "version": 3
   },
   "file_extension": ".py",
   "mimetype": "text/x-python",
   "name": "python",
   "nbconvert_exporter": "python",
   "pygments_lexer": "ipython3",
   "version": "3.6.8"
  }
 },
 "nbformat": 4,
 "nbformat_minor": 2
}
