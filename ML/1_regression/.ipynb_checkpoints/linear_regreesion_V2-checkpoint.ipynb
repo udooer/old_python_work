{
 "cells": [
  {
   "cell_type": "code",
   "execution_count": 69,
   "metadata": {},
   "outputs": [],
   "source": [
    "import torch \n",
    "import torch.nn as nn\n",
    "from torch.autograd import Variable\n",
    "import matplotlib.pyplot as plt\n",
    "import torch.optim as optim"
   ]
  },
  {
   "cell_type": "code",
   "execution_count": 103,
   "metadata": {},
   "outputs": [],
   "source": [
    "n = 100\n",
    "torch.manual_seed(42)\n",
    "x = torch.ones(n, 2)\n",
    "x[:,0].uniform_(-1,1)\n",
    "a = torch.Tensor([[3.], [2]])\n",
    "y = x@a + .25*torch.randn(n).unsqueeze(1)"
   ]
  },
  {
   "cell_type": "markdown",
   "metadata": {},
   "source": [
    "@ can conduct the inner product in tensor, and the input must be a batch input."
   ]
  },
  {
   "cell_type": "code",
   "execution_count": 104,
   "metadata": {},
   "outputs": [
    {
     "data": {
      "text/plain": [
       "<matplotlib.collections.PathCollection at 0x7fbc0cab61d0>"
      ]
     },
     "execution_count": 104,
     "metadata": {},
     "output_type": "execute_result"
    },
    {
     "data": {
      "image/png": "[encoded data removed]",
      "text/plain": [
       "<matplotlib.figure.Figure at 0x7fbc0cb77160>"
      ]
     },
     "metadata": {},
     "output_type": "display_data"
    }
   ],
   "source": [
    "plt.scatter(x[:,0], y)"
   ]
  },
  {
   "cell_type": "markdown",
   "metadata": {},
   "source": [
    "make a model for the NN structure inherit from nn.Module"
   ]
  },
  {
   "cell_type": "code",
   "execution_count": 26,
   "metadata": {},
   "outputs": [],
   "source": [
    "class linearNN(nn.Module):\n",
    "    def __init__(self, input_size, output_size):\n",
    "        super(linearNN, self).__init__()\n",
    "        \n",
    "        self.input_size = input_size\n",
    "        self.output_size = output_size\n",
    "        \n",
    "#         self.a = nn.Parameter(torch.randn(1, requires_grad=True, dtype=torch.float))\n",
    "#         self.b = nn.Parameter(torch.randn(1, requires_grad=True, dtype=torch.float))\n",
    "        self.l = nn.Linear(input_size, output_size)\n",
    "    \n",
    "    def forward(self, x):\n",
    "#         return self.a + self.b * x\n",
    "        return self.l(x)"
   ]
  },
  {
   "cell_type": "code",
   "execution_count": 46,
   "metadata": {},
   "outputs": [
    {
     "data": {
      "text/plain": [
       "[Parameter containing:\n",
       " tensor([[-0.6973]], requires_grad=True), Parameter containing:\n",
       " tensor([-0.9869], requires_grad=True)]"
      ]
     },
     "execution_count": 46,
     "metadata": {},
     "output_type": "execute_result"
    }
   ],
   "source": [
    "l = linearNN(1,1)\n",
    "list(l.parameters())"
   ]
  },
  {
   "cell_type": "code",
   "execution_count": 106,
   "metadata": {},
   "outputs": [
    {
     "data": {
      "text/plain": [
       "OrderedDict([('l.weight', tensor([[-0.6973]])), ('l.bias', tensor([-0.9869]))])"
      ]
     },
     "execution_count": 106,
     "metadata": {},
     "output_type": "execute_result"
    }
   ],
   "source": [
    "a = l.state_dict()\n",
    "a \n",
    "# x[:,0]*a['l.weight']+a['l.bias']-y"
   ]
  },
  {
   "cell_type": "markdown",
   "metadata": {},
   "source": [
    "input must be a batch so we need to create a fake dim "
   ]
  },
  {
   "cell_type": "code",
   "execution_count": 107,
   "metadata": {},
   "outputs": [],
   "source": [
    "#create a train_step, input will be the model, loss_fn, and the optimizer\n",
    "\n",
    "def make_train_step(model, loss_fn, optim):\n",
    "    \n",
    "    def train_step(x, y):\n",
    "        model.train()\n",
    "        \n",
    "        yhat = model(x)\n",
    "        loss = loss_fn(y, yhat)\n",
    "        \n",
    "        optim.zero_grad()\n",
    "        loss.backward()\n",
    "        optim.step()\n",
    "        \n",
    "        return loss.item()\n",
    "    return train_step    "
   ]
  },
  {
   "cell_type": "code",
   "execution_count": 108,
   "metadata": {},
   "outputs": [],
   "source": [
    "# initialize all the parameters\n",
    "lr = 0.1\n",
    "epochs = 1000\n",
    "model = linearNN(1, 1)\n",
    "loss_fn = nn.MSELoss(reduction='mean')\n",
    "optimizer = optim.SGD(model.parameters(), lr = lr)\n",
    "\n",
    "train_step = make_train_step(model=model, loss_fn=loss_fn, optim=optimizer) "
   ]
  },
  {
   "cell_type": "code",
   "execution_count": 109,
   "metadata": {},
   "outputs": [
    {
     "name": "stdout",
     "output_type": "stream",
     "text": [
      "OrderedDict([('l.weight', tensor([[2.9423]])), ('l.bias', tensor([2.0000]))])\n"
     ]
    }
   ],
   "source": [
    "# start to train \n",
    "losses = []\n",
    "for epoch in range(epochs):\n",
    "    loss = train_step(x[:,0].unsqueeze(1), y)\n",
    "    losses.append(loss)\n",
    "print(model.state_dict())"
   ]
  },
  {
   "cell_type": "code",
   "execution_count": 110,
   "metadata": {},
   "outputs": [
    {
     "data": {
      "text/plain": [
       "[<matplotlib.lines.Line2D at 0x7fbc0ca9dd30>]"
      ]
     },
     "execution_count": 110,
     "metadata": {},
     "output_type": "execute_result"
    },
    {
     "data": {
      "image/png": "[encoded data removed]",
      "text/plain": [
       "<matplotlib.figure.Figure at 0x7fbc0cae0ef0>"
      ]
     },
     "metadata": {},
     "output_type": "display_data"
    }
   ],
   "source": [
    "plt.plot(losses)"
   ]
  }
 ],
 "metadata": {
  "kernelspec": {
   "display_name": "Python 3",
   "language": "python",
   "name": "python3"
  },
  "language_info": {
   "codemirror_mode": {
    "name": "ipython",
    "version": 3
   },
   "file_extension": ".py",
   "mimetype": "text/x-python",
   "name": "python",
   "nbconvert_exporter": "python",
   "pygments_lexer": "ipython3",
   "version": "3.6.8"
  }
 },
 "nbformat": 4,
 "nbformat_minor": 2
}
