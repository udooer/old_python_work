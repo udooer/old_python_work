{
 "cells": [
  {
   "cell_type": "code",
   "execution_count": 1,
   "metadata": {},
   "outputs": [],
   "source": [
    "path = r\"I:\\2020_07_17_TS\\*.wav\"\n",
    "# filename = r\"\\S4A02746_20000104_124448.wav\"\n",
    "# file = path + filename\n",
    "from glob import glob "
   ]
  },
  {
   "cell_type": "code",
   "execution_count": 2,
   "metadata": {},
   "outputs": [
    {
     "data": {
      "text/plain": [
       "['I:\\\\2020_07_17_TS\\\\1652_AI0_chirp_half_ms_with_target.wav',\n",
       " 'I:\\\\2020_07_17_TS\\\\1706_AI0_chirp_one_ms_with_target.wav',\n",
       " 'I:\\\\2020_07_17_TS\\\\1723_AI1_chirp_one_ms_without_target.wav',\n",
       " 'I:\\\\2020_07_17_TS\\\\1723_AI0_chirp_one_ms_without_target.wav',\n",
       " 'I:\\\\2020_07_17_TS\\\\1734_AI1_chirp_half_ms_without_target.wav',\n",
       " 'I:\\\\2020_07_17_TS\\\\1734_AI0_chirp_half_ms_without_target.wav',\n",
       " 'I:\\\\2020_07_17_TS\\\\1748_AI0_chirp_half_ms_nothing.wav',\n",
       " 'I:\\\\2020_07_17_TS\\\\1753_AI0_chirp_half_ms_nothing.wav',\n",
       " 'I:\\\\2020_07_17_TS\\\\1757_AI0_NL.wav']"
      ]
     },
     "execution_count": 2,
     "metadata": {},
     "output_type": "execute_result"
    }
   ],
   "source": [
    "filelist = glob(path)\n",
    "filelist"
   ]
  },
  {
   "cell_type": "code",
   "execution_count": 3,
   "metadata": {},
   "outputs": [],
   "source": [
    "# from scipy.io import wavfile (do not support 24bits depth)\n",
    "import soundfile as sf\n",
    "import numpy as np\n",
    "import matplotlib.pyplot as plt\n",
    "import math\n",
    "# %matplotlib notebook\n",
    "import os"
   ]
  },
  {
   "cell_type": "code",
   "execution_count": 4,
   "metadata": {},
   "outputs": [],
   "source": [
    "class SL():\n",
    "    def __init__(self, file):\n",
    "        self.file = file\n",
    "        self.bits = 24\n",
    "        self.range = 2\n",
    "        title = self.file.split('\\\\')[-1].split('.')[0].split('_')\n",
    "        self.plot_title = title[1] + \"_\" + title[2]\n",
    "        self.freq = title[2]\n",
    "        print(\"title: {}\".format(self.plot_title))\n",
    "    def readWavFileToArray(self):\n",
    "#         fp = open(self.file, 'r')\n",
    "#         self.fs, self.values = wavfile.read(self.file)\n",
    "#         self.values = self.values*(self.range/pow(2,self.bits))\n",
    "        self.values, self.fs = sf.read(self.file)\n",
    "        self.values = self.values-np.mean(self.values)\n",
    "        self.length = len(self.values)\n",
    "        self.time = np.arange(self.length)/self.fs\n",
    "        print(\"total lenght: {}, time duration: {}\".\n",
    "              format(self.length, self.length//self.fs))\n",
    "    def plot(self):\n",
    "        plt.plot(self.time, self.values)\n",
    "        plt.title(self.plot_title)\n",
    "    def findPeakIndex(self, threshold):\n",
    "        mask = ((self.values[1:-1]-self.values[2:])>0)*((self.values[1:-1]-self.values[:-2])>0)*(self.values[1:-1]>threshold)\n",
    "        self.indexs = []\n",
    "        for index, i in enumerate(mask):\n",
    "            if(i):\n",
    "                self.indexs.append(index+1)\n",
    "        count=1\n",
    "        self.indexs = np.array(self.indexs)\n",
    "        diff = self.indexs[1:]-self.indexs[:-1]\n",
    "        \n",
    "        start_skip=0\n",
    "        end_skip=0\n",
    "        self.category=[]\n",
    "        self.category.append(self.indexs[start_skip])\n",
    "        for index, value in enumerate(diff):\n",
    "            if value>self.fs:\n",
    "                count+=1\n",
    "                self.category.append(self.indexs[index-end_skip])\n",
    "                self.category.append(self.indexs[index+1+start_skip])\n",
    "        self.category.append(self.indexs[-(1+end_skip)])\n",
    "        print(\"total sound generated: {}\".format(count))\n",
    "    def plotWithPeak(self):\n",
    "        fig, ax = plt.subplots()\n",
    "        ax.plot(self.time, self.values)\n",
    "        ax.plot(self.time[self.indexs], self.values[self.indexs], 'o')\n",
    "        ax.set_title(self.plot_title)\n",
    "        fig.tight_layout()\n",
    "    def plotWithFilterPeak(self):\n",
    "        fig, ax = plt.subplots()\n",
    "        ax.plot(self.time, self.values)\n",
    "        ax.plot(self.time[self.category], self.values[self.category], 'o')\n",
    "        ax.set_title(self.plot_title)\n",
    "        fig.tight_layout()\n",
    "    \n",
    "    def rms(self, x):\n",
    "        return np.sqrt(np.mean(x*x))\n",
    "    def calculateSL(self):\n",
    "        self.sen = -207\n",
    "        length = len(self.category)\n",
    "        print()\n",
    "        if (length%2==0 and length>0):\n",
    "            self.SL=[]\n",
    "            for i in range(length//2):\n",
    "                start = self.category[2*i]\n",
    "                end = self.category[2*i+1]\n",
    "                v = self.rms(self.values[start:end])\n",
    "                sl = 20*math.log10(v)-self.sen\n",
    "                self.SL.append(sl)\n",
    "        else:\n",
    "            print(\"the peak is wrong or empty, check the plot with peak\")\n",
    "    def getSL(self):\n",
    "        return self.SL\n",
    "    def getData(self):\n",
    "        return self.values\n",
    "    def getIndex(self):\n",
    "        return self.indexs\n",
    "    def getTime(self):\n",
    "        return self.time"
   ]
  },
  {
   "cell_type": "code",
   "execution_count": 5,
   "metadata": {},
   "outputs": [
    {
     "data": {
      "text/plain": [
       "['I:\\\\2020_07_17_TS\\\\1652_AI0_chirp_half_ms_with_target.wav',\n",
       " 'I:\\\\2020_07_17_TS\\\\1706_AI0_chirp_one_ms_with_target.wav',\n",
       " 'I:\\\\2020_07_17_TS\\\\1723_AI1_chirp_one_ms_without_target.wav',\n",
       " 'I:\\\\2020_07_17_TS\\\\1723_AI0_chirp_one_ms_without_target.wav',\n",
       " 'I:\\\\2020_07_17_TS\\\\1734_AI1_chirp_half_ms_without_target.wav',\n",
       " 'I:\\\\2020_07_17_TS\\\\1734_AI0_chirp_half_ms_without_target.wav',\n",
       " 'I:\\\\2020_07_17_TS\\\\1748_AI0_chirp_half_ms_nothing.wav',\n",
       " 'I:\\\\2020_07_17_TS\\\\1753_AI0_chirp_half_ms_nothing.wav',\n",
       " 'I:\\\\2020_07_17_TS\\\\1757_AI0_NL.wav']"
      ]
     },
     "execution_count": 5,
     "metadata": {},
     "output_type": "execute_result"
    }
   ],
   "source": [
    "filelist"
   ]
  },
  {
   "cell_type": "code",
   "execution_count": 6,
   "metadata": {
    "scrolled": false
   },
   "outputs": [
    {
     "name": "stdout",
     "output_type": "stream",
     "text": [
      "title: AI0_chirp\n",
      "total lenght: 66975000, time duration: 654\n"
     ]
    }
   ],
   "source": [
    "tank = SL(filelist[3])\n",
    "tank.readWavFileToArray()\n",
    "# tank.plot()"
   ]
  },
  {
   "cell_type": "code",
   "execution_count": 7,
   "metadata": {},
   "outputs": [
    {
     "name": "stdout",
     "output_type": "stream",
     "text": [
      "total sound generated: 215\n"
     ]
    }
   ],
   "source": [
    "tank.findPeakIndex(0.25)\n",
    "# tank.plotWithPeak()\n",
    "# b.calculateSL()"
   ]
  },
  {
   "cell_type": "code",
   "execution_count": 8,
   "metadata": {},
   "outputs": [],
   "source": [
    "index_tank = tank.getIndex()\n",
    "data_tank = tank.getData()"
   ]
  },
  {
   "cell_type": "code",
   "execution_count": 9,
   "metadata": {},
   "outputs": [
    {
     "name": "stdout",
     "output_type": "stream",
     "text": [
      "title: AI0_chirp\n",
      "total lenght: 65200000, time duration: 636\n"
     ]
    }
   ],
   "source": [
    "target = SL(filelist[1])\n",
    "target.readWavFileToArray()\n",
    "# target.plot()"
   ]
  },
  {
   "cell_type": "code",
   "execution_count": 10,
   "metadata": {},
   "outputs": [
    {
     "name": "stdout",
     "output_type": "stream",
     "text": [
      "total sound generated: 210\n"
     ]
    }
   ],
   "source": [
    "target.findPeakIndex(0.25)\n",
    "# target.plotWithPeak()\n",
    "# b.calculateSL()"
   ]
  },
  {
   "cell_type": "code",
   "execution_count": 11,
   "metadata": {},
   "outputs": [],
   "source": [
    "index_target = target.getIndex()\n",
    "data_target = target.getData()"
   ]
  },
  {
   "cell_type": "code",
   "execution_count": 15,
   "metadata": {},
   "outputs": [],
   "source": [
    "fs = 102400\n",
    "start_tank = index_tank[0]-int(0.0005*fs)\n",
    "end_tank = start_tank + int(fs*0.001)\n",
    "start_target = index_target[0]-int(0.0005*fs)\n",
    "end_target = start_target + int(fs*0.001)\n",
    "\n",
    "template = data_tank[start_tank:end_tank]\n",
    "single_tank = data_tank[start_tank:end_tank]\n",
    "single_target = data_target[start_target:end_target]\n",
    "\n",
    "os_path = r\"G:\\python_work\\03_target_strength\\fig\\2020_07_17\"\n",
    "os.chdir(os_path)\n",
    "\n",
    "for i in range(200):\n",
    "    start_tank = int(index_tank[i]-0.0005*fs)\n",
    "    end_tank = int(start_tank + fs*0.001)\n",
    "    \n",
    "    \n",
    "    tank = data_tank[start_tank:end_tank]\n",
    "    fig, ax = plt.subplots()\n",
    "    time = np.arange(len(tank))/fs\n",
    "    ax.plot(time, tank)\n",
    "    ax.set_title(\"chirp number {}\".format(i))\n",
    "    ax.set_xlabel(\"Time(s)\")\n",
    "    ax.set_ylabel(\"Voltage(v)\")\n",
    "    fig.savefig('index_{}.png'.format(i))\n",
    "    plt.close()\n",
    "    template = template + tank"
   ]
  },
  {
   "cell_type": "code",
   "execution_count": 13,
   "metadata": {},
   "outputs": [
    {
     "data": {
      "text/plain": [
       "420"
      ]
     },
     "execution_count": 13,
     "metadata": {},
     "output_type": "execute_result"
    }
   ],
   "source": [
    "len(index_target)"
   ]
  },
  {
   "cell_type": "code",
   "execution_count": 22,
   "metadata": {},
   "outputs": [],
   "source": [
    "fs = 102400\n",
    "start_tank = int(index_tank[0]-0.0005*fs)\n",
    "end_tank = int(start_tank + fs*0.001)\n",
    "start_target = int(index_target[0]-0.0005*fs)\n",
    "end_target = int(start_target + fs*0.001)\n",
    "\n",
    "template = data_tank[start_tank:end_tank]\n",
    "single_tank = data_tank[start_tank:end_tank]\n",
    "single_target = data_target[start_target:end_target]\n",
    "\n",
    "os_path = r\"G:\\python_work\\03_target_strength\\fig\\2020_07_07\"\n",
    "os.chdir(os_path)\n",
    "\n",
    "for i in range(287):\n",
    "    start_target = int(index_target[i]-0.0005*fs)\n",
    "    end_target = int(start_target + fs*0.001)\n",
    "    \n",
    "    \n",
    "    tank = data_target[start_target:end_target]\n",
    "    fig, ax = plt.subplots()\n",
    "    time = np.arange(len(tank))/fs\n",
    "    ax.plot(time, tank)\n",
    "    ax.set_title(\"chirp number {}\".format(i+189))\n",
    "    ax.set_xlabel(\"Time(s)\")\n",
    "    ax.set_ylabel(\"Voltage(v)\")\n",
    "    fig.savefig('index_{}.png'.format(i+189))\n",
    "    plt.close()\n",
    "    template = template + tank"
   ]
  },
  {
   "cell_type": "code",
   "execution_count": 30,
   "metadata": {},
   "outputs": [
    {
     "data": {
      "image/png": "[encoded data removed]",
      "text/plain": [
       "<Figure size 432x288 with 1 Axes>"
      ]
     },
     "metadata": {
      "needs_background": "light"
     },
     "output_type": "display_data"
    }
   ],
   "source": [
    "average = np.zeros(len(single_tank))\n",
    "for i in range(len(index_target)):\n",
    "    start_target = int(index_target[i]-0.0005*fs)\n",
    "    end_target = int(start_target + fs*0.001)\n",
    "    target = data_target[start_target:end_target]\n",
    "    average = average + target\n",
    "for i in range(len(index_tank)):\n",
    "    start_tank = int(index_tank[i]-0.0005*fs)\n",
    "    end_tank = int(start_tank + fs*0.001)\n",
    "    tank = data_tank[start_tank:end_tank]\n",
    "    average = average + target\n",
    "fig, ax = plt.subplots()\n",
    "time = np.arange(len(average))/fs\n",
    "ax.plot(time, average)\n",
    "average = average/476"
   ]
  },
  {
   "cell_type": "code",
   "execution_count": 31,
   "metadata": {},
   "outputs": [],
   "source": [
    "power_list = []\n",
    "for i in range(len(index_target)):\n",
    "    start_target = int(index_target[i]-0.0005*fs)\n",
    "    end_target = int(start_target + fs*0.001)\n",
    "    target = data_target[start_target:end_target]\n",
    "    diff = target-average\n",
    "    power_list.append(np.sum(diff*diff))\n",
    "for i in range(len(index_tank)):\n",
    "    start_tank = int(index_tank[i]-0.0005*fs)\n",
    "    end_tank = int(start_tank + fs*0.001)\n",
    "    tank = data_tank[start_tank:end_tank]\n",
    "    diff = tank - average\n",
    "    power_list.append(np.sum(diff*diff))"
   ]
  },
  {
   "cell_type": "code",
   "execution_count": 32,
   "metadata": {},
   "outputs": [
    {
     "data": {
      "text/plain": [
       "476"
      ]
     },
     "execution_count": 32,
     "metadata": {},
     "output_type": "execute_result"
    }
   ],
   "source": [
    "len(power_list)"
   ]
  },
  {
   "cell_type": "code",
   "execution_count": 70,
   "metadata": {},
   "outputs": [
    {
     "data": {
      "text/plain": [
       "Text(0.25, 0.6, 'stdev=0.0279, mean=0.0297')"
      ]
     },
     "execution_count": 70,
     "metadata": {},
     "output_type": "execute_result"
    },
    {
     "data": {
      "image/png": "[encoded data removed]",
      "text/plain": [
       "<Figure size 432x288 with 1 Axes>"
      ]
     },
     "metadata": {
      "needs_background": "light"
     },
     "output_type": "display_data"
    }
   ],
   "source": [
    "import pandas as pd\n",
    "df = pd.DataFrame(power_list)\n",
    "ax = df.plot.hist(bins=50)\n",
    "ax.set_xlabel(\"error of power\")\n",
    "ax.text(0.25, 0.6, s=\"stdev=0.0279, mean=0.0297\", transform=ax.transAxes, fontsize=16)"
   ]
  },
  {
   "cell_type": "code",
   "execution_count": 38,
   "metadata": {},
   "outputs": [],
   "source": [
    "def rms(x):\n",
    "    return np.sqrt(np.mean(x*x))"
   ]
  },
  {
   "cell_type": "code",
   "execution_count": 41,
   "metadata": {},
   "outputs": [],
   "source": [
    "def compute_SL(x):\n",
    "    sen = -207\n",
    "    r = rms(x)\n",
    "    sl = 20*math.log10(r)-sen\n",
    "    return sl"
   ]
  },
  {
   "cell_type": "code",
   "execution_count": 42,
   "metadata": {},
   "outputs": [],
   "source": [
    "sl_list = []\n",
    "for i in range(len(index_target)):\n",
    "    start_target = int(index_target[i]-0.0005*fs)\n",
    "    end_target = int(start_target + fs*0.001)\n",
    "    target = data_target[start_target:end_target]\n",
    "    sl = compute_SL(target)\n",
    "    sl_list.append(sl)\n",
    "for i in range(len(index_tank)):\n",
    "    start_tank = int(index_tank[i]-0.0005*fs)\n",
    "    end_tank = int(start_tank + fs*0.001)\n",
    "    tank = data_tank[start_tank:end_tank]\n",
    "    sl = compute_SL(tank)\n",
    "    sl_list.append(sl)"
   ]
  },
  {
   "cell_type": "code",
   "execution_count": 44,
   "metadata": {},
   "outputs": [
    {
     "data": {
      "text/plain": [
       "476"
      ]
     },
     "execution_count": 44,
     "metadata": {},
     "output_type": "execute_result"
    }
   ],
   "source": [
    "len(sl_list)"
   ]
  },
  {
   "cell_type": "code",
   "execution_count": 45,
   "metadata": {},
   "outputs": [
    {
     "data": {
      "text/plain": [
       "[188.41435216315705,\n",
       " 188.41208347259666,\n",
       " 188.4305986385137,\n",
       " 188.40589237543986,\n",
       " 188.3985039345457,\n",
       " 188.39659291252792,\n",
       " 188.39284108914993,\n",
       " 188.390411517964,\n",
       " 188.38571695846423,\n",
       " 188.38325289349063,\n",
       " 188.3786583543565,\n",
       " 188.3824935129788,\n",
       " 188.37853509873273,\n",
       " 188.3945874343056,\n",
       " 188.37569634960633,\n",
       " 188.36823893543743,\n",
       " 188.3660160001015,\n",
       " 188.36458340121285,\n",
       " 188.36047646563716,\n",
       " 188.35868162832327,\n",
       " 188.35786353877933,\n",
       " 188.35857521428818,\n",
       " 188.38156611107001,\n",
       " 188.35239434295116,\n",
       " 188.34990251736525,\n",
       " 188.3560890540186,\n",
       " 188.3499281102336,\n",
       " 188.34474244542244,\n",
       " 188.3452146209382,\n",
       " 188.3465415404007,\n",
       " 188.3747041111348,\n",
       " 188.34256791573054,\n",
       " 188.33832280564235,\n",
       " 188.3376314628648,\n",
       " 188.33658837215356,\n",
       " 188.33742397756936,\n",
       " 188.33558538829624,\n",
       " 188.34849568002866,\n",
       " 188.33002252429105,\n",
       " 188.3285198438177,\n",
       " 188.3658406492493,\n",
       " 188.3266225156142,\n",
       " 188.32921092917542,\n",
       " 188.3454081221951,\n",
       " 188.32586808187,\n",
       " 188.3229043256752,\n",
       " 188.325536287583,\n",
       " 188.32195298059048,\n",
       " 188.32302816203918,\n",
       " 188.35046464694472,\n",
       " 188.32308833302974,\n",
       " 188.32434849255378,\n",
       " 188.32646637844428,\n",
       " 188.32062164332086,\n",
       " 188.34974448973895,\n",
       " 188.3215397568128,\n",
       " 188.31889468692808,\n",
       " 188.34809406043877,\n",
       " 188.32071946109915,\n",
       " 188.31887121862948,\n",
       " 188.3209957889855,\n",
       " 188.3189845722338,\n",
       " 188.31757015578722,\n",
       " 188.31901957763552,\n",
       " 188.31717241077408,\n",
       " 188.31377578039752,\n",
       " 188.31599995014219,\n",
       " 188.31313779581404,\n",
       " 188.3151057927443,\n",
       " 188.31458454461745,\n",
       " 188.32028763924683,\n",
       " 188.3149372459391,\n",
       " 188.3119572750104,\n",
       " 188.3129514513132,\n",
       " 188.3113505101357,\n",
       " 188.3146952697533,\n",
       " 188.31178357737295,\n",
       " 188.30999248643724,\n",
       " 188.31250922791318,\n",
       " 188.3152642742919,\n",
       " 188.3093655775271,\n",
       " 188.3136879343989,\n",
       " 188.31157335038387,\n",
       " 188.30825150947263,\n",
       " 188.31031906776835,\n",
       " 188.3400056614818,\n",
       " 188.30874211399671,\n",
       " 188.3113306235694,\n",
       " 188.30799595863598,\n",
       " 188.30640014307843,\n",
       " 188.32550335420467,\n",
       " 188.3087470131694,\n",
       " 188.30525120435644,\n",
       " 188.30921338222578,\n",
       " 188.33402986958873,\n",
       " 188.3076895841529,\n",
       " 188.3067549224198,\n",
       " 188.30982309158813,\n",
       " 188.30587905598563,\n",
       " 188.3076621327409,\n",
       " 188.3107578183376,\n",
       " 188.30913225040223,\n",
       " 188.30899164823566,\n",
       " 188.3110933388192,\n",
       " 188.3081755338671,\n",
       " 188.30993251638563,\n",
       " 188.3084501408024,\n",
       " 188.31123174413617,\n",
       " 188.30615792044483,\n",
       " 188.31186980822613,\n",
       " 188.3047741790187,\n",
       " 188.30577693971162,\n",
       " 188.30809317128515,\n",
       " 188.3176524179959,\n",
       " 188.30825680156698,\n",
       " 188.30604380478414,\n",
       " 188.30325620592276,\n",
       " 188.30418721723458,\n",
       " 188.3279959324061,\n",
       " 188.3058357993473,\n",
       " 188.30529517952655,\n",
       " 188.30320532583605,\n",
       " 188.30451207537428,\n",
       " 188.3243704756782,\n",
       " 188.3030871063683,\n",
       " 188.3071321787601,\n",
       " 188.3048342652207,\n",
       " 188.30239661652047,\n",
       " 188.30171591655932,\n",
       " 188.3040765712894,\n",
       " 188.30147141012696,\n",
       " 188.30230419912007,\n",
       " 188.31228076017572,\n",
       " 188.3020290386792,\n",
       " 188.3025834207923,\n",
       " 188.30588929345612,\n",
       " 188.32470390874084,\n",
       " 188.3274809564557,\n",
       " 188.304540680927,\n",
       " 188.304264543241,\n",
       " 188.30872010396672,\n",
       " 188.30201721753102,\n",
       " 188.3201320200039,\n",
       " 188.3023084920536,\n",
       " 188.30268631853156,\n",
       " 188.30489207423562,\n",
       " 188.30423865162334,\n",
       " 188.30400292952555,\n",
       " 188.30133576898604,\n",
       " 188.31755380740657,\n",
       " 188.29826457082504,\n",
       " 188.30054364058182,\n",
       " 188.30412642718306,\n",
       " 188.33058475107129,\n",
       " 188.30213366888069,\n",
       " 188.30212383839967,\n",
       " 188.29563497932747,\n",
       " 188.30420197804384,\n",
       " 188.31698345282993,\n",
       " 188.2991950690712,\n",
       " 188.3358922185968,\n",
       " 188.3041090918985,\n",
       " 188.30360929920954,\n",
       " 188.30637365440253,\n",
       " 188.3030696701115,\n",
       " 188.29841396882324,\n",
       " 188.2975076943748,\n",
       " 188.33112429146308,\n",
       " 188.30339215425067,\n",
       " 188.3051614593055,\n",
       " 188.29944999662078,\n",
       " 188.30663605619392,\n",
       " 188.30382706522906,\n",
       " 188.30688623059626,\n",
       " 188.29716134943922,\n",
       " 188.30515432795775,\n",
       " 188.30517289301116,\n",
       " 188.30325531817417,\n",
       " 188.34008061877404,\n",
       " 188.30378076558264,\n",
       " 188.30736418655894,\n",
       " 188.30425742192074,\n",
       " 188.30494157760896,\n",
       " 188.30164110186686,\n",
       " 188.29743420707572,\n",
       " 188.29610931546483,\n",
       " 188.33009706156068,\n",
       " 188.30809008631374,\n",
       " 188.3015279543426,\n",
       " 188.29458483914402,\n",
       " 188.29906420392237,\n",
       " 188.30347356906975,\n",
       " 188.30410002312829,\n",
       " 188.30492859438334,\n",
       " 188.303895650401,\n",
       " 188.3314848100847,\n",
       " 188.31647627985384,\n",
       " 188.3040285397984,\n",
       " 188.3014009862565,\n",
       " 188.30421656886142,\n",
       " 188.30508016364897,\n",
       " 188.2947978760682,\n",
       " 188.29709260418767,\n",
       " 188.30337723084787,\n",
       " 188.29421199834795,\n",
       " 188.3056151963085,\n",
       " 188.3029585635937,\n",
       " 188.30409432233802,\n",
       " 188.3038993619082,\n",
       " 188.30637277074442,\n",
       " 188.30101458399085,\n",
       " 188.33734706601243,\n",
       " 188.30050567340197,\n",
       " 188.30143961807562,\n",
       " 188.30463816560462,\n",
       " 188.30630829665202,\n",
       " 188.32993878290014,\n",
       " 188.30073407407798,\n",
       " 188.30617216743684,\n",
       " 188.30614794022716,\n",
       " 188.3190271367772,\n",
       " 188.30646171267628,\n",
       " 188.33207466904253,\n",
       " 188.30637728231758,\n",
       " 188.33818091316365,\n",
       " 188.30839393484936,\n",
       " 188.3159722808524,\n",
       " 188.30573598946398,\n",
       " 188.31049146836563,\n",
       " 188.30720789600764,\n",
       " 188.30626518837056,\n",
       " 188.30339600448937,\n",
       " 188.3093278117226,\n",
       " 188.30761396781824,\n",
       " 188.30844011216087,\n",
       " 188.30935907967685,\n",
       " 188.3093969197867,\n",
       " 188.30665636821627,\n",
       " 188.30391846141,\n",
       " 188.30686845002998,\n",
       " 188.2984648662089,\n",
       " 188.33032196157106,\n",
       " 188.32411165061868,\n",
       " 188.30652584260014,\n",
       " 188.305532583854,\n",
       " 188.30959140568817,\n",
       " 188.2988880376639,\n",
       " 188.30558787348642,\n",
       " 188.3311921698832,\n",
       " 188.30588339637148,\n",
       " 188.33286822330925,\n",
       " 188.30493200184773,\n",
       " 188.30757556306088,\n",
       " 188.30982548530991,\n",
       " 188.29873240445198,\n",
       " 188.2996195395074,\n",
       " 188.30603543846797,\n",
       " 188.30828289764077,\n",
       " 188.30433571122063,\n",
       " 188.30787493077273,\n",
       " 188.2959897558953,\n",
       " 188.303509601826,\n",
       " 188.30482367386176,\n",
       " 188.30228403705303,\n",
       " 188.3077117877591,\n",
       " 188.3040930660736,\n",
       " 188.30636385524994,\n",
       " 188.32874353844096,\n",
       " 188.3060719720921,\n",
       " 188.3076063677716,\n",
       " 188.30777685842773,\n",
       " 188.29757611074285,\n",
       " 188.30108960367843,\n",
       " 188.3052475596395,\n",
       " 188.30529577756545,\n",
       " 188.32916722600217,\n",
       " 188.308331396388,\n",
       " 188.3097038338175,\n",
       " 188.30620177367314,\n",
       " 188.33115284879932,\n",
       " 188.30613814872777,\n",
       " 188.3340578420134,\n",
       " 188.3082215133117,\n",
       " 188.31184763870542,\n",
       " 188.30593814407143,\n",
       " 188.33952302714988,\n",
       " 188.3013290292577,\n",
       " 188.3368691327491,\n",
       " 188.33637218853477,\n",
       " 188.33417242722012,\n",
       " 188.3616861868168,\n",
       " 188.33217816336656,\n",
       " 188.32915468088513,\n",
       " 188.3284607599277,\n",
       " 188.32714985837245,\n",
       " 188.326403742915,\n",
       " 188.3286862668791,\n",
       " 188.32532970710164,\n",
       " 188.34859323256813,\n",
       " 188.35332148019458,\n",
       " 188.3383858176932,\n",
       " 188.31891545967989,\n",
       " 188.31742665179792,\n",
       " 188.31787870921337,\n",
       " 188.3281966913409,\n",
       " 188.31656676516016,\n",
       " 188.31335111534432,\n",
       " 188.31581106163026,\n",
       " 188.31503075078166,\n",
       " 188.31521280338424,\n",
       " 188.3107602550489,\n",
       " 188.3098559319202,\n",
       " 188.3127252215267,\n",
       " 188.31077118225113,\n",
       " 188.30754806480923,\n",
       " 188.33485108604094,\n",
       " 188.306308329244,\n",
       " 188.30670780179526,\n",
       " 188.30205679337197,\n",
       " 188.3084097470439,\n",
       " 188.30257227677566,\n",
       " 188.30259417191732,\n",
       " 188.30204803255174,\n",
       " 188.29959967559807,\n",
       " 188.30122634776976,\n",
       " 188.29715027674385,\n",
       " 188.32725678790342,\n",
       " 188.300112001014,\n",
       " 188.29897419625672,\n",
       " 188.30193648803387,\n",
       " 188.29673845496572,\n",
       " 188.29787154261686,\n",
       " 188.29848964221614,\n",
       " 188.32682894993508,\n",
       " 188.29739606190876,\n",
       " 188.29608503540294,\n",
       " 188.29692599317391,\n",
       " 188.29203121658193,\n",
       " 188.29443673151422,\n",
       " 188.29983472082773,\n",
       " 188.2967198579531,\n",
       " 188.29522780359085,\n",
       " 188.29697492565188,\n",
       " 188.29681332279617,\n",
       " 188.2926784536721,\n",
       " 188.2958547989836,\n",
       " 188.2993870763969,\n",
       " 188.29190349215133,\n",
       " 188.31507146024074,\n",
       " 188.29356720921433,\n",
       " 188.32383979943657,\n",
       " 188.29399124349314,\n",
       " 188.32104088096705,\n",
       " 188.29474271750206,\n",
       " 188.29195896758162,\n",
       " 188.2989870336223,\n",
       " 188.29325602294955,\n",
       " 188.2921165194071,\n",
       " 188.29353291713548,\n",
       " 188.29116987934162,\n",
       " 188.30464399509023,\n",
       " 188.29130232867337,\n",
       " 188.29302119717153,\n",
       " 188.29135871783683,\n",
       " 188.29605267845972,\n",
       " 188.31586708462123,\n",
       " 188.2929126156491,\n",
       " 188.29314539331108,\n",
       " 188.29152273382024,\n",
       " 188.29567350728362,\n",
       " 188.28976960863218,\n",
       " 188.29434953966603,\n",
       " 188.29295486691004,\n",
       " 188.29256688153504,\n",
       " 188.29392656918807,\n",
       " 188.29188283342265,\n",
       " 188.29432087886167,\n",
       " 188.2938963411916,\n",
       " 188.29314898571133,\n",
       " 188.29526871595456,\n",
       " 188.29396248831713,\n",
       " 188.2952504893029,\n",
       " 188.29261497278063,\n",
       " 188.2927163003921,\n",
       " 188.29266112823984,\n",
       " 188.29401941991497,\n",
       " 188.2945244013333,\n",
       " 188.29347383955238,\n",
       " 188.29346290091172,\n",
       " 188.31499651085554,\n",
       " 188.2905529048875,\n",
       " 188.2978786423735,\n",
       " 188.28901246928262,\n",
       " 188.3095386764301,\n",
       " 188.2913296464064,\n",
       " 188.29005000201738,\n",
       " 188.29603650654036,\n",
       " 188.29244194156962,\n",
       " 188.31920460780978,\n",
       " 188.29651920927284,\n",
       " 188.32334022328826,\n",
       " 188.29135602352446,\n",
       " 188.29511294658028,\n",
       " 188.29303983932942,\n",
       " 188.2948021925671,\n",
       " 188.31662665860574,\n",
       " 188.29155264082365,\n",
       " 188.31701069343003,\n",
       " 188.29450456761657,\n",
       " 188.2907063309207,\n",
       " 188.2943767954326,\n",
       " 188.2895451212961,\n",
       " 188.29186672610433,\n",
       " 188.2899600359729,\n",
       " 188.2917562249837,\n",
       " 188.28969401972023,\n",
       " 188.29165684240357,\n",
       " 188.2932933574353,\n",
       " 188.3213987855824,\n",
       " 188.2946598439171,\n",
       " 188.29028245001277,\n",
       " 188.2894043486261,\n",
       " 188.3210365734453,\n",
       " 188.29344178124228,\n",
       " 188.31697043548397,\n",
       " 188.29342022463015,\n",
       " 188.29113839789875,\n",
       " 188.29081820798024,\n",
       " 188.29230926256847,\n",
       " 188.29042905696605,\n",
       " 188.289961604126,\n",
       " 188.29167547195914,\n",
       " 188.28820320010405,\n",
       " 188.28971198587402,\n",
       " 188.29673484089147,\n",
       " 188.29082419411495,\n",
       " 188.2890926677798,\n",
       " 188.3095447279407,\n",
       " 188.28678384792272,\n",
       " 188.2876225596246,\n",
       " 188.28693983308966,\n",
       " 188.3085415646401,\n",
       " 188.28848243436252,\n",
       " 188.2848256504503,\n",
       " 188.28809465155365,\n",
       " 188.2815518718385,\n",
       " 188.28618632059178,\n",
       " 188.28587272477978,\n",
       " 188.28774473172226,\n",
       " 188.287046866169,\n",
       " 188.31498089096436,\n",
       " 188.2873986890916,\n",
       " 188.28890546417944,\n",
       " 188.28571217571795,\n",
       " 188.28817343355877,\n",
       " 188.29888829754512,\n",
       " 188.31744457384963,\n",
       " 188.29007956816312,\n",
       " 188.2921340630361,\n",
       " 188.29148697103818,\n",
       " 188.29370522876212,\n",
       " 188.32499133309852,\n",
       " 188.28952134832937,\n",
       " 188.29469503324157,\n",
       " 188.2888668788133,\n",
       " 188.28519085647525,\n",
       " 188.29484922668857,\n",
       " 188.29355577543097,\n",
       " 188.2915552543141,\n",
       " 188.3134949765043,\n",
       " 188.29124318163431,\n",
       " 188.29319204289934,\n",
       " 188.29013344814592,\n",
       " 188.31806647364957,\n",
       " 188.2951643526439,\n",
       " 188.29262004694363]"
      ]
     },
     "execution_count": 45,
     "metadata": {},
     "output_type": "execute_result"
    }
   ],
   "source": [
    "sl_list"
   ]
  },
  {
   "cell_type": "code",
   "execution_count": 77,
   "metadata": {},
   "outputs": [
    {
     "data": {
      "text/plain": [
       "Text(0.3, 0.55, 'stdev=0.022, mean=188.311')"
      ]
     },
     "execution_count": 77,
     "metadata": {},
     "output_type": "execute_result"
    },
    {
     "data": {
      "image/png": "[encoded data removed]",
      "text/plain": [
       "<Figure size 432x288 with 1 Axes>"
      ]
     },
     "metadata": {
      "needs_background": "light"
     },
     "output_type": "display_data"
    }
   ],
   "source": [
    "df = pd.DataFrame(sl_list)\n",
    "ax = df.plot.hist(bins=50)\n",
    "ax.set_xlabel(\"Source level(dB re 1upa)\")\n",
    "ax.text(0.3, 0.55, s=\"stdev=0.022, mean=188.311\", transform=ax.transAxes, fontsize=15)"
   ]
  },
  {
   "cell_type": "code",
   "execution_count": 49,
   "metadata": {},
   "outputs": [],
   "source": [
    "import statistics"
   ]
  },
  {
   "cell_type": "code",
   "execution_count": 50,
   "metadata": {},
   "outputs": [
    {
     "data": {
      "text/plain": [
       "0.022649358360817398"
      ]
     },
     "execution_count": 50,
     "metadata": {},
     "output_type": "execute_result"
    }
   ],
   "source": [
    "statistics.stdev(sl_list)"
   ]
  },
  {
   "cell_type": "code",
   "execution_count": 51,
   "metadata": {},
   "outputs": [
    {
     "data": {
      "text/plain": [
       "188.3118296814865"
      ]
     },
     "execution_count": 51,
     "metadata": {},
     "output_type": "execute_result"
    }
   ],
   "source": [
    "statistics.mean(sl_list)"
   ]
  },
  {
   "cell_type": "code",
   "execution_count": 63,
   "metadata": {},
   "outputs": [
    {
     "data": {
      "text/plain": [
       "0.027896794709818054"
      ]
     },
     "execution_count": 63,
     "metadata": {},
     "output_type": "execute_result"
    }
   ],
   "source": [
    "statistics.stdev(power_list)"
   ]
  },
  {
   "cell_type": "code",
   "execution_count": 64,
   "metadata": {},
   "outputs": [
    {
     "data": {
      "text/plain": [
       "0.02972755893976324"
      ]
     },
     "execution_count": 64,
     "metadata": {},
     "output_type": "execute_result"
    }
   ],
   "source": [
    "statistics.mean(power_list)"
   ]
  },
  {
   "cell_type": "code",
   "execution_count": null,
   "metadata": {},
   "outputs": [],
   "source": []
  }
 ],
 "metadata": {
  "kernelspec": {
   "display_name": "Python 3",
   "language": "python",
   "name": "python3"
  },
  "language_info": {
   "codemirror_mode": {
    "name": "ipython",
    "version": 3
   },
   "file_extension": ".py",
   "mimetype": "text/x-python",
   "name": "python",
   "nbconvert_exporter": "python",
   "pygments_lexer": "ipython3",
   "version": "3.8.3"
  }
 },
 "nbformat": 4,
 "nbformat_minor": 2
}
